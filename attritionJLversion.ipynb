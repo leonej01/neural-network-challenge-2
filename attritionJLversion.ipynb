{
  "cells": [
    {
      "cell_type": "markdown",
      "metadata": {
        "id": "alIIEHibGc3M"
      },
      "source": [
        "## Part 1: Preprocessing"
      ]
    },
    {
      "cell_type": "code",
      "execution_count": 1,
      "metadata": {
        "colab": {
          "base_uri": "https://localhost:8080/",
          "height": 325
        },
        "id": "6eDUJ4NtGc3P",
        "outputId": "2480098c-135c-4cbf-9552-018494ee8ff5"
      },
      "outputs": [
        {
          "data": {
            "text/html": [
              "<div>\n",
              "<style scoped>\n",
              "    .dataframe tbody tr th:only-of-type {\n",
              "        vertical-align: middle;\n",
              "    }\n",
              "\n",
              "    .dataframe tbody tr th {\n",
              "        vertical-align: top;\n",
              "    }\n",
              "\n",
              "    .dataframe thead th {\n",
              "        text-align: right;\n",
              "    }\n",
              "</style>\n",
              "<table border=\"1\" class=\"dataframe\">\n",
              "  <thead>\n",
              "    <tr style=\"text-align: right;\">\n",
              "      <th></th>\n",
              "      <th>Age</th>\n",
              "      <th>Attrition</th>\n",
              "      <th>BusinessTravel</th>\n",
              "      <th>Department</th>\n",
              "      <th>DistanceFromHome</th>\n",
              "      <th>Education</th>\n",
              "      <th>EducationField</th>\n",
              "      <th>EnvironmentSatisfaction</th>\n",
              "      <th>HourlyRate</th>\n",
              "      <th>JobInvolvement</th>\n",
              "      <th>...</th>\n",
              "      <th>PerformanceRating</th>\n",
              "      <th>RelationshipSatisfaction</th>\n",
              "      <th>StockOptionLevel</th>\n",
              "      <th>TotalWorkingYears</th>\n",
              "      <th>TrainingTimesLastYear</th>\n",
              "      <th>WorkLifeBalance</th>\n",
              "      <th>YearsAtCompany</th>\n",
              "      <th>YearsInCurrentRole</th>\n",
              "      <th>YearsSinceLastPromotion</th>\n",
              "      <th>YearsWithCurrManager</th>\n",
              "    </tr>\n",
              "  </thead>\n",
              "  <tbody>\n",
              "    <tr>\n",
              "      <th>0</th>\n",
              "      <td>41</td>\n",
              "      <td>Yes</td>\n",
              "      <td>Travel_Rarely</td>\n",
              "      <td>Sales</td>\n",
              "      <td>1</td>\n",
              "      <td>2</td>\n",
              "      <td>Life Sciences</td>\n",
              "      <td>2</td>\n",
              "      <td>94</td>\n",
              "      <td>3</td>\n",
              "      <td>...</td>\n",
              "      <td>3</td>\n",
              "      <td>1</td>\n",
              "      <td>0</td>\n",
              "      <td>8</td>\n",
              "      <td>0</td>\n",
              "      <td>1</td>\n",
              "      <td>6</td>\n",
              "      <td>4</td>\n",
              "      <td>0</td>\n",
              "      <td>5</td>\n",
              "    </tr>\n",
              "    <tr>\n",
              "      <th>1</th>\n",
              "      <td>49</td>\n",
              "      <td>No</td>\n",
              "      <td>Travel_Frequently</td>\n",
              "      <td>Research &amp; Development</td>\n",
              "      <td>8</td>\n",
              "      <td>1</td>\n",
              "      <td>Life Sciences</td>\n",
              "      <td>3</td>\n",
              "      <td>61</td>\n",
              "      <td>2</td>\n",
              "      <td>...</td>\n",
              "      <td>4</td>\n",
              "      <td>4</td>\n",
              "      <td>1</td>\n",
              "      <td>10</td>\n",
              "      <td>3</td>\n",
              "      <td>3</td>\n",
              "      <td>10</td>\n",
              "      <td>7</td>\n",
              "      <td>1</td>\n",
              "      <td>7</td>\n",
              "    </tr>\n",
              "    <tr>\n",
              "      <th>2</th>\n",
              "      <td>37</td>\n",
              "      <td>Yes</td>\n",
              "      <td>Travel_Rarely</td>\n",
              "      <td>Research &amp; Development</td>\n",
              "      <td>2</td>\n",
              "      <td>2</td>\n",
              "      <td>Other</td>\n",
              "      <td>4</td>\n",
              "      <td>92</td>\n",
              "      <td>2</td>\n",
              "      <td>...</td>\n",
              "      <td>3</td>\n",
              "      <td>2</td>\n",
              "      <td>0</td>\n",
              "      <td>7</td>\n",
              "      <td>3</td>\n",
              "      <td>3</td>\n",
              "      <td>0</td>\n",
              "      <td>0</td>\n",
              "      <td>0</td>\n",
              "      <td>0</td>\n",
              "    </tr>\n",
              "    <tr>\n",
              "      <th>3</th>\n",
              "      <td>33</td>\n",
              "      <td>No</td>\n",
              "      <td>Travel_Frequently</td>\n",
              "      <td>Research &amp; Development</td>\n",
              "      <td>3</td>\n",
              "      <td>4</td>\n",
              "      <td>Life Sciences</td>\n",
              "      <td>4</td>\n",
              "      <td>56</td>\n",
              "      <td>3</td>\n",
              "      <td>...</td>\n",
              "      <td>3</td>\n",
              "      <td>3</td>\n",
              "      <td>0</td>\n",
              "      <td>8</td>\n",
              "      <td>3</td>\n",
              "      <td>3</td>\n",
              "      <td>8</td>\n",
              "      <td>7</td>\n",
              "      <td>3</td>\n",
              "      <td>0</td>\n",
              "    </tr>\n",
              "    <tr>\n",
              "      <th>4</th>\n",
              "      <td>27</td>\n",
              "      <td>No</td>\n",
              "      <td>Travel_Rarely</td>\n",
              "      <td>Research &amp; Development</td>\n",
              "      <td>2</td>\n",
              "      <td>1</td>\n",
              "      <td>Medical</td>\n",
              "      <td>1</td>\n",
              "      <td>40</td>\n",
              "      <td>3</td>\n",
              "      <td>...</td>\n",
              "      <td>3</td>\n",
              "      <td>4</td>\n",
              "      <td>1</td>\n",
              "      <td>6</td>\n",
              "      <td>3</td>\n",
              "      <td>3</td>\n",
              "      <td>2</td>\n",
              "      <td>2</td>\n",
              "      <td>2</td>\n",
              "      <td>2</td>\n",
              "    </tr>\n",
              "  </tbody>\n",
              "</table>\n",
              "<p>5 rows × 27 columns</p>\n",
              "</div>"
            ],
            "text/plain": [
              "   Age Attrition     BusinessTravel              Department  DistanceFromHome  \\\n",
              "0   41       Yes      Travel_Rarely                   Sales                 1   \n",
              "1   49        No  Travel_Frequently  Research & Development                 8   \n",
              "2   37       Yes      Travel_Rarely  Research & Development                 2   \n",
              "3   33        No  Travel_Frequently  Research & Development                 3   \n",
              "4   27        No      Travel_Rarely  Research & Development                 2   \n",
              "\n",
              "   Education EducationField  EnvironmentSatisfaction  HourlyRate  \\\n",
              "0          2  Life Sciences                        2          94   \n",
              "1          1  Life Sciences                        3          61   \n",
              "2          2          Other                        4          92   \n",
              "3          4  Life Sciences                        4          56   \n",
              "4          1        Medical                        1          40   \n",
              "\n",
              "   JobInvolvement  ...  PerformanceRating RelationshipSatisfaction  \\\n",
              "0               3  ...                  3                        1   \n",
              "1               2  ...                  4                        4   \n",
              "2               2  ...                  3                        2   \n",
              "3               3  ...                  3                        3   \n",
              "4               3  ...                  3                        4   \n",
              "\n",
              "   StockOptionLevel TotalWorkingYears  TrainingTimesLastYear WorkLifeBalance  \\\n",
              "0                 0                 8                      0               1   \n",
              "1                 1                10                      3               3   \n",
              "2                 0                 7                      3               3   \n",
              "3                 0                 8                      3               3   \n",
              "4                 1                 6                      3               3   \n",
              "\n",
              "   YearsAtCompany  YearsInCurrentRole  YearsSinceLastPromotion  \\\n",
              "0               6                   4                        0   \n",
              "1              10                   7                        1   \n",
              "2               0                   0                        0   \n",
              "3               8                   7                        3   \n",
              "4               2                   2                        2   \n",
              "\n",
              "   YearsWithCurrManager  \n",
              "0                     5  \n",
              "1                     7  \n",
              "2                     0  \n",
              "3                     0  \n",
              "4                     2  \n",
              "\n",
              "[5 rows x 27 columns]"
            ]
          },
          "execution_count": 1,
          "metadata": {},
          "output_type": "execute_result"
        }
      ],
      "source": [
        "# Import our dependencies\n",
        "from sklearn.model_selection import train_test_split\n",
        "from sklearn.preprocessing import StandardScaler, OneHotEncoder, LabelEncoder\n",
        "import pandas as pd\n",
        "import numpy as np\n",
        "from tensorflow.keras.models import Model\n",
        "from tensorflow.keras import layers\n",
        "\n",
        "\n",
        "\n",
        "#  Import and read the attrition data\n",
        "attrition_df = pd.read_csv('https://static.bc-edx.com/ai/ail-v-1-0/m19/lms/datasets/attrition.csv')\n",
        "attrition_df.head()"
      ]
    },
    {
      "cell_type": "code",
      "execution_count": 2,
      "metadata": {},
      "outputs": [
        {
          "name": "stdout",
          "output_type": "stream",
          "text": [
            "<class 'pandas.core.frame.DataFrame'>\n",
            "RangeIndex: 1470 entries, 0 to 1469\n",
            "Data columns (total 27 columns):\n",
            " #   Column                    Non-Null Count  Dtype \n",
            "---  ------                    --------------  ----- \n",
            " 0   Age                       1470 non-null   int64 \n",
            " 1   Attrition                 1470 non-null   object\n",
            " 2   BusinessTravel            1470 non-null   object\n",
            " 3   Department                1470 non-null   object\n",
            " 4   DistanceFromHome          1470 non-null   int64 \n",
            " 5   Education                 1470 non-null   int64 \n",
            " 6   EducationField            1470 non-null   object\n",
            " 7   EnvironmentSatisfaction   1470 non-null   int64 \n",
            " 8   HourlyRate                1470 non-null   int64 \n",
            " 9   JobInvolvement            1470 non-null   int64 \n",
            " 10  JobLevel                  1470 non-null   int64 \n",
            " 11  JobRole                   1470 non-null   object\n",
            " 12  JobSatisfaction           1470 non-null   int64 \n",
            " 13  MaritalStatus             1470 non-null   object\n",
            " 14  NumCompaniesWorked        1470 non-null   int64 \n",
            " 15  OverTime                  1470 non-null   object\n",
            " 16  PercentSalaryHike         1470 non-null   int64 \n",
            " 17  PerformanceRating         1470 non-null   int64 \n",
            " 18  RelationshipSatisfaction  1470 non-null   int64 \n",
            " 19  StockOptionLevel          1470 non-null   int64 \n",
            " 20  TotalWorkingYears         1470 non-null   int64 \n",
            " 21  TrainingTimesLastYear     1470 non-null   int64 \n",
            " 22  WorkLifeBalance           1470 non-null   int64 \n",
            " 23  YearsAtCompany            1470 non-null   int64 \n",
            " 24  YearsInCurrentRole        1470 non-null   int64 \n",
            " 25  YearsSinceLastPromotion   1470 non-null   int64 \n",
            " 26  YearsWithCurrManager      1470 non-null   int64 \n",
            "dtypes: int64(20), object(7)\n",
            "memory usage: 310.2+ KB\n"
          ]
        }
      ],
      "source": [
        "attrition_df.info()"
      ]
    },
    {
      "cell_type": "code",
      "execution_count": 3,
      "metadata": {
        "colab": {
          "base_uri": "https://localhost:8080/"
        },
        "id": "g22aQSY4Gc3Q",
        "outputId": "1f5c13c1-b981-4e40-a7ed-dd3fe6f1b81e"
      },
      "outputs": [
        {
          "data": {
            "text/plain": [
              "Age                         43\n",
              "Attrition                    2\n",
              "BusinessTravel               3\n",
              "Department                   3\n",
              "DistanceFromHome            29\n",
              "Education                    5\n",
              "EducationField               6\n",
              "EnvironmentSatisfaction      4\n",
              "HourlyRate                  71\n",
              "JobInvolvement               4\n",
              "JobLevel                     5\n",
              "JobRole                      9\n",
              "JobSatisfaction              4\n",
              "MaritalStatus                3\n",
              "NumCompaniesWorked          10\n",
              "OverTime                     2\n",
              "PercentSalaryHike           15\n",
              "PerformanceRating            2\n",
              "RelationshipSatisfaction     4\n",
              "StockOptionLevel             4\n",
              "TotalWorkingYears           40\n",
              "TrainingTimesLastYear        7\n",
              "WorkLifeBalance              4\n",
              "YearsAtCompany              37\n",
              "YearsInCurrentRole          19\n",
              "YearsSinceLastPromotion     16\n",
              "YearsWithCurrManager        18\n",
              "dtype: int64"
            ]
          },
          "execution_count": 3,
          "metadata": {},
          "output_type": "execute_result"
        }
      ],
      "source": [
        "# Determine the number of unique values in each column.\n",
        "attrition_df.nunique()"
      ]
    },
    {
      "cell_type": "code",
      "execution_count": 4,
      "metadata": {
        "id": "50vMgBEnJbfM"
      },
      "outputs": [],
      "source": [
        "# Create y_df with the Attrition and Department columns\n",
        "\n",
        "y_df = attrition_df[['Attrition', 'Department']]"
      ]
    },
    {
      "cell_type": "code",
      "execution_count": 5,
      "metadata": {},
      "outputs": [
        {
          "data": {
            "text/plain": [
              "<bound method IndexOpsMixin.tolist of Index(['Age', 'Attrition', 'BusinessTravel', 'Department', 'DistanceFromHome',\n",
              "       'Education', 'EducationField', 'EnvironmentSatisfaction', 'HourlyRate',\n",
              "       'JobInvolvement', 'JobLevel', 'JobRole', 'JobSatisfaction',\n",
              "       'MaritalStatus', 'NumCompaniesWorked', 'OverTime', 'PercentSalaryHike',\n",
              "       'PerformanceRating', 'RelationshipSatisfaction', 'StockOptionLevel',\n",
              "       'TotalWorkingYears', 'TrainingTimesLastYear', 'WorkLifeBalance',\n",
              "       'YearsAtCompany', 'YearsInCurrentRole', 'YearsSinceLastPromotion',\n",
              "       'YearsWithCurrManager'],\n",
              "      dtype='object')>"
            ]
          },
          "execution_count": 5,
          "metadata": {},
          "output_type": "execute_result"
        }
      ],
      "source": [
        "column_names = attrition_df.columns.to_list\n",
        "column_names"
      ]
    },
    {
      "cell_type": "code",
      "execution_count": 6,
      "metadata": {
        "colab": {
          "base_uri": "https://localhost:8080/"
        },
        "id": "Virka0zLGc3R",
        "outputId": "dd5aee3a-9458-4ba6-e857-1b234de40915"
      },
      "outputs": [
        {
          "data": {
            "text/plain": [
              "Education                  int64\n",
              "HourlyRate                 int64\n",
              "JobSatisfaction            int64\n",
              "PercentSalaryHike          int64\n",
              "TotalWorkingYears          int64\n",
              "WorkLifeBalance            int64\n",
              "YearsAtCompany             int64\n",
              "YearsInCurrentRole         int64\n",
              "YearsSinceLastPromotion    int64\n",
              "YearsWithCurrManager       int64\n",
              "dtype: object"
            ]
          },
          "execution_count": 6,
          "metadata": {},
          "output_type": "execute_result"
        }
      ],
      "source": [
        "# Create a list of at least 10 column names to use as X data\n",
        "selcted_columns = ['Education', 'HourlyRate', 'JobSatisfaction', 'PercentSalaryHike','TotalWorkingYears', \\\n",
        "            'WorkLifeBalance', 'YearsAtCompany', 'YearsInCurrentRole', 'YearsSinceLastPromotion',\n",
        "            'YearsWithCurrManager']\n",
        "\n",
        "# Create X_df using your selected columns\n",
        "X_df = attrition_df[selcted_columns]\n",
        "\n",
        "# Show the data types for X_df\n",
        "X_df.dtypes\n"
      ]
    },
    {
      "cell_type": "code",
      "execution_count": 7,
      "metadata": {},
      "outputs": [
        {
          "data": {
            "text/plain": [
              "Department\n",
              "Research & Development    961\n",
              "Sales                     446\n",
              "Human Resources            63\n",
              "Name: count, dtype: int64"
            ]
          },
          "execution_count": 7,
          "metadata": {},
          "output_type": "execute_result"
        }
      ],
      "source": [
        "attrition_df[\"Department\"].value_counts()"
      ]
    },
    {
      "cell_type": "code",
      "execution_count": 8,
      "metadata": {},
      "outputs": [
        {
          "data": {
            "text/plain": [
              "Attrition\n",
              "No     1233\n",
              "Yes     237\n",
              "Name: count, dtype: int64"
            ]
          },
          "execution_count": 8,
          "metadata": {},
          "output_type": "execute_result"
        }
      ],
      "source": [
        "attrition_df['Attrition'].value_counts()"
      ]
    },
    {
      "cell_type": "code",
      "execution_count": 9,
      "metadata": {},
      "outputs": [],
      "source": [
        "# Split data into  two separate y variables\n",
        "y_attrition = attrition_df['Attrition'].values.reshape(-1, 1)\n",
        "y_department = attrition_df['Department'].values.reshape(-1, 1)"
      ]
    },
    {
      "cell_type": "code",
      "execution_count": 10,
      "metadata": {},
      "outputs": [
        {
          "data": {
            "text/plain": [
              "(1470, 1)"
            ]
          },
          "execution_count": 10,
          "metadata": {},
          "output_type": "execute_result"
        }
      ],
      "source": [
        "# Check shape of y_attrition \n",
        "y_attrition.shape"
      ]
    },
    {
      "cell_type": "code",
      "execution_count": 11,
      "metadata": {},
      "outputs": [
        {
          "data": {
            "text/plain": [
              "(1470, 1)"
            ]
          },
          "execution_count": 11,
          "metadata": {},
          "output_type": "execute_result"
        }
      ],
      "source": [
        "# Check shape of y_department \n",
        "y_department.shape"
      ]
    },
    {
      "cell_type": "code",
      "execution_count": 12,
      "metadata": {
        "id": "KaJfdOGUMHMR"
      },
      "outputs": [],
      "source": [
        "# Split the data into training and testing sets\n",
        "\n",
        "X_train, X_test, y_attrition_train, y_attrition_test, y_department_train, y_department_test = train_test_split(X_df, y_attrition, y_department, test_size=0.2, random_state=42)"
      ]
    },
    {
      "cell_type": "code",
      "execution_count": 13,
      "metadata": {
        "colab": {
          "base_uri": "https://localhost:8080/"
        },
        "id": "NYubUJqiLCSp",
        "outputId": "53f31721-571c-4c94-d13e-25a715749593"
      },
      "outputs": [],
      "source": [
        "# Convert your X data to numeric data types however you see fit\n",
        "# Add new code cells as necessary\n",
        "\n",
        "\n"
      ]
    },
    {
      "cell_type": "code",
      "execution_count": 14,
      "metadata": {
        "id": "EWA-aIA5Gc3T"
      },
      "outputs": [],
      "source": [
        "# Create a StandardScaler\n",
        "scaler = StandardScaler()\n",
        "\n",
        "# Fit the StandardScaler to the training data\n",
        "scaler.fit(X_train)\n",
        "\n",
        "# Scale the training and testing data\n",
        "X_train_scaled = scaler.transform(X_train)\n",
        "X_test_scaled = scaler.transform(X_test)\n"
      ]
    },
    {
      "cell_type": "code",
      "execution_count": 15,
      "metadata": {},
      "outputs": [
        {
          "name": "stdout",
          "output_type": "stream",
          "text": [
            "[-0.86335572 -0.47283217 -1.58233648 -0.33924934 -1.1673683   0.3574354\n",
            " -0.97426331 -0.88820751 -0.67610953 -1.14244794]\n",
            "-------------------\n",
            "[ 0.09993302  0.84714032 -1.58233648  0.7522889  -0.65531119  0.3574354\n",
            " -0.3170233  -0.05767581 -0.35524399 -0.29140142]\n"
          ]
        }
      ],
      "source": [
        "# Check that the X_train & X_test have been scaled\n",
        "print(X_train_scaled[0])\n",
        "print('-------------------')\n",
        "print(X_test_scaled[0])\n"
      ]
    },
    {
      "cell_type": "code",
      "execution_count": 16,
      "metadata": {},
      "outputs": [
        {
          "name": "stdout",
          "output_type": "stream",
          "text": [
            "The shape of  X_train is: (1176, 10)\n",
            "The shape of  X_test is: (294, 10)\n"
          ]
        }
      ],
      "source": [
        "# Check the shape of X_train & X_test\n",
        "print(\"The shape of  X_train is:\",  X_train.shape)\n",
        "print(\"The shape of  X_test is:\",  X_test.shape)\n"
      ]
    },
    {
      "cell_type": "code",
      "execution_count": 17,
      "metadata": {
        "colab": {
          "base_uri": "https://localhost:8080/"
        },
        "id": "-z0Mky8vQSz4",
        "outputId": "debefc85-c20b-48f5-f4d9-91eadd65d36a"
      },
      "outputs": [],
      "source": [
        "# Create a OneHotEncoder for the Department column\n",
        "dept_encoder = OneHotEncoder(sparse_output=False)\n",
        "\n",
        "# Fit the encoder to the training data\n",
        "dept_encoder.fit(y_department_train)\n",
        "\n",
        "# Create two new variables by applying the encoder\n",
        "# to the training and testing data\n",
        "y_dept_train_encoded = dept_encoder.transform(y_department_train)\n",
        "y_dept_test_encoded = dept_encoder.transform(y_department_test)\n"
      ]
    },
    {
      "cell_type": "code",
      "execution_count": 18,
      "metadata": {},
      "outputs": [
        {
          "name": "stdout",
          "output_type": "stream",
          "text": [
            "The shape of y_dept_train_encoded is: (1176, 3)\n",
            "The shape of y_dept_test_encoded is: (294, 3)\n"
          ]
        }
      ],
      "source": [
        "# Check the shape of y_dept_train_encoded & y_dept_test_encoded\n",
        "print(\"The shape of y_dept_train_encoded is:\", y_dept_train_encoded.shape)\n",
        "print(\"The shape of y_dept_test_encoded is:\", y_dept_test_encoded.shape)"
      ]
    },
    {
      "cell_type": "code",
      "execution_count": 20,
      "metadata": {},
      "outputs": [
        {
          "name": "stderr",
          "output_type": "stream",
          "text": [
            "/Users/jenniferleone/anaconda3/lib/python3.11/site-packages/sklearn/preprocessing/_label.py:114: DataConversionWarning: A column-vector y was passed when a 1d array was expected. Please change the shape of y to (n_samples, ), for example using ravel().\n",
            "  y = column_or_1d(y, warn=True)\n",
            "/Users/jenniferleone/anaconda3/lib/python3.11/site-packages/sklearn/preprocessing/_label.py:132: DataConversionWarning: A column-vector y was passed when a 1d array was expected. Please change the shape of y to (n_samples, ), for example using ravel().\n",
            "  y = column_or_1d(y, dtype=self.classes_.dtype, warn=True)\n"
          ]
        }
      ],
      "source": [
        "# Label encoding for binary \"Attrition\" column; one-hot encoding for multiple categories\n",
        "encoder = LabelEncoder()\n",
        "\n",
        "y_attr_train_encoded = encoder.fit_transform(y_attrition_train)\n",
        "y_attr_test_encoded = encoder.transform(y_attrition_test)\n",
        "\n"
      ]
    },
    {
      "cell_type": "code",
      "execution_count": 21,
      "metadata": {
        "colab": {
          "base_uri": "https://localhost:8080/"
        },
        "id": "-G4DSpvFRrk4",
        "outputId": "9842e948-8a55-4b80-8fac-f96714e85589"
      },
      "outputs": [],
      "source": [
        "# # Create a OneHotEncoder for the Attrition column\n",
        "# attr_encoder = OneHotEncoder(sparse_output=False)\n",
        "\n",
        "# # Fit the encoder to the training data\n",
        "# attr_encoder.fit(y_attrition_train)\n",
        "\n",
        "# # Create two new variables by applying the encoder\n",
        "# # to the training and testing data\n",
        "# y_attr_train_encoded = attr_encoder.transform(y_attrition_train)\n",
        "# y_attr_test_encoded= attr_encoder.transform(y_attrition_test)\n"
      ]
    },
    {
      "cell_type": "code",
      "execution_count": 23,
      "metadata": {},
      "outputs": [
        {
          "name": "stdout",
          "output_type": "stream",
          "text": [
            "The shape of y_attr_train_encoded is: (1176,)\n",
            "The shape of y_attr_test_encoded is: (294,)\n"
          ]
        }
      ],
      "source": [
        "# Check the shape of y_dept_train_encoded & y_dept_test_encoded\n",
        "print(\"The shape of y_attr_train_encoded is:\", y_attr_train_encoded.shape)\n",
        "print(\"The shape of y_attr_test_encoded is:\", y_attr_test_encoded.shape)"
      ]
    },
    {
      "cell_type": "markdown",
      "metadata": {
        "id": "ykNmu_WWGc3T"
      },
      "source": [
        "## Create, Compile, and Train the Model"
      ]
    },
    {
      "cell_type": "code",
      "execution_count": 24,
      "metadata": {
        "id": "WUptZqmSGc3T"
      },
      "outputs": [],
      "source": [
        "# Find the number of columns in the X training data\n",
        "columns =X_df.shape[1]\n",
        "\n",
        "# Create the input layer\n",
        "input_layer = layers.Input(shape=(X_df.shape[1],), name='input_features')\n",
        "\n",
        "# Create at least two shared layers\n",
        "shared1 = layers.Dense(24, activation='relu')(input_layer)\n",
        "shared2 = layers.Dense(12, activation='relu')(shared1)\n"
      ]
    },
    {
      "cell_type": "code",
      "execution_count": 25,
      "metadata": {
        "id": "JukjTm2yTEqd"
      },
      "outputs": [],
      "source": [
        "# Create a branch for Department\n",
        "# with a hidden layer and an output layer\n",
        "\n",
        "# Create the hidden layer\n",
        "department_hidden = layers.Dense(12, activation='relu', name='department_hidden')(shared2)\n",
        "\n",
        "# Create the output layer\n",
        "department_output = layers.Dense(3, \n",
        "                                 activation='softmax', \n",
        "                                 name='department_output')(department_hidden)"
      ]
    },
    {
      "cell_type": "code",
      "execution_count": 26,
      "metadata": {
        "id": "9OqhUiOJUBkR"
      },
      "outputs": [],
      "source": [
        "# Create a branch for Attrition\n",
        "# with a hidden layer and an output layer\n",
        "\n",
        "# Create the hidden layer\n",
        "attrition_hidden = layers.Dense(12, activation='relu', name='attrition_hidden')(shared2)\n",
        "\n",
        "\n",
        "# Create the output layer\n",
        "attrition_output = layers.Dense(1, activation='sigmoid', \n",
        "                                name='attrition_output')(attrition_hidden)\n"
      ]
    },
    {
      "cell_type": "code",
      "execution_count": 27,
      "metadata": {
        "colab": {
          "base_uri": "https://localhost:8080/"
        },
        "id": "twmuejdxGc3T",
        "outputId": "25096308-b68b-42e4-e4ea-ae82e97c435a"
      },
      "outputs": [
        {
          "data": {
            "text/html": [
              "<pre style=\"white-space:pre;overflow-x:auto;line-height:normal;font-family:Menlo,'DejaVu Sans Mono',consolas,'Courier New',monospace\"><span style=\"font-weight: bold\">Model: \"functional_1\"</span>\n",
              "</pre>\n"
            ],
            "text/plain": [
              "\u001b[1mModel: \"functional_1\"\u001b[0m\n"
            ]
          },
          "metadata": {},
          "output_type": "display_data"
        },
        {
          "data": {
            "text/html": [
              "<pre style=\"white-space:pre;overflow-x:auto;line-height:normal;font-family:Menlo,'DejaVu Sans Mono',consolas,'Courier New',monospace\">┏━━━━━━━━━━━━━━━━━━━━━┳━━━━━━━━━━━━━━━━━━━┳━━━━━━━━━━━━┳━━━━━━━━━━━━━━━━━━━┓\n",
              "┃<span style=\"font-weight: bold\"> Layer (type)        </span>┃<span style=\"font-weight: bold\"> Output Shape      </span>┃<span style=\"font-weight: bold\">    Param # </span>┃<span style=\"font-weight: bold\"> Connected to      </span>┃\n",
              "┡━━━━━━━━━━━━━━━━━━━━━╇━━━━━━━━━━━━━━━━━━━╇━━━━━━━━━━━━╇━━━━━━━━━━━━━━━━━━━┩\n",
              "│ input_features      │ (<span style=\"color: #00d7ff; text-decoration-color: #00d7ff\">None</span>, <span style=\"color: #00af00; text-decoration-color: #00af00\">10</span>)        │          <span style=\"color: #00af00; text-decoration-color: #00af00\">0</span> │ -                 │\n",
              "│ (<span style=\"color: #0087ff; text-decoration-color: #0087ff\">InputLayer</span>)        │                   │            │                   │\n",
              "├─────────────────────┼───────────────────┼────────────┼───────────────────┤\n",
              "│ dense (<span style=\"color: #0087ff; text-decoration-color: #0087ff\">Dense</span>)       │ (<span style=\"color: #00d7ff; text-decoration-color: #00d7ff\">None</span>, <span style=\"color: #00af00; text-decoration-color: #00af00\">24</span>)        │        <span style=\"color: #00af00; text-decoration-color: #00af00\">264</span> │ input_features[<span style=\"color: #00af00; text-decoration-color: #00af00\">0</span>… │\n",
              "├─────────────────────┼───────────────────┼────────────┼───────────────────┤\n",
              "│ dense_1 (<span style=\"color: #0087ff; text-decoration-color: #0087ff\">Dense</span>)     │ (<span style=\"color: #00d7ff; text-decoration-color: #00d7ff\">None</span>, <span style=\"color: #00af00; text-decoration-color: #00af00\">12</span>)        │        <span style=\"color: #00af00; text-decoration-color: #00af00\">300</span> │ dense[<span style=\"color: #00af00; text-decoration-color: #00af00\">0</span>][<span style=\"color: #00af00; text-decoration-color: #00af00\">0</span>]       │\n",
              "├─────────────────────┼───────────────────┼────────────┼───────────────────┤\n",
              "│ department_hidden   │ (<span style=\"color: #00d7ff; text-decoration-color: #00d7ff\">None</span>, <span style=\"color: #00af00; text-decoration-color: #00af00\">12</span>)        │        <span style=\"color: #00af00; text-decoration-color: #00af00\">156</span> │ dense_1[<span style=\"color: #00af00; text-decoration-color: #00af00\">0</span>][<span style=\"color: #00af00; text-decoration-color: #00af00\">0</span>]     │\n",
              "│ (<span style=\"color: #0087ff; text-decoration-color: #0087ff\">Dense</span>)             │                   │            │                   │\n",
              "├─────────────────────┼───────────────────┼────────────┼───────────────────┤\n",
              "│ attrition_hidden    │ (<span style=\"color: #00d7ff; text-decoration-color: #00d7ff\">None</span>, <span style=\"color: #00af00; text-decoration-color: #00af00\">12</span>)        │        <span style=\"color: #00af00; text-decoration-color: #00af00\">156</span> │ dense_1[<span style=\"color: #00af00; text-decoration-color: #00af00\">0</span>][<span style=\"color: #00af00; text-decoration-color: #00af00\">0</span>]     │\n",
              "│ (<span style=\"color: #0087ff; text-decoration-color: #0087ff\">Dense</span>)             │                   │            │                   │\n",
              "├─────────────────────┼───────────────────┼────────────┼───────────────────┤\n",
              "│ department_output   │ (<span style=\"color: #00d7ff; text-decoration-color: #00d7ff\">None</span>, <span style=\"color: #00af00; text-decoration-color: #00af00\">3</span>)         │         <span style=\"color: #00af00; text-decoration-color: #00af00\">39</span> │ department_hidde… │\n",
              "│ (<span style=\"color: #0087ff; text-decoration-color: #0087ff\">Dense</span>)             │                   │            │                   │\n",
              "├─────────────────────┼───────────────────┼────────────┼───────────────────┤\n",
              "│ attrition_output    │ (<span style=\"color: #00d7ff; text-decoration-color: #00d7ff\">None</span>, <span style=\"color: #00af00; text-decoration-color: #00af00\">1</span>)         │         <span style=\"color: #00af00; text-decoration-color: #00af00\">13</span> │ attrition_hidden… │\n",
              "│ (<span style=\"color: #0087ff; text-decoration-color: #0087ff\">Dense</span>)             │                   │            │                   │\n",
              "└─────────────────────┴───────────────────┴────────────┴───────────────────┘\n",
              "</pre>\n"
            ],
            "text/plain": [
              "┏━━━━━━━━━━━━━━━━━━━━━┳━━━━━━━━━━━━━━━━━━━┳━━━━━━━━━━━━┳━━━━━━━━━━━━━━━━━━━┓\n",
              "┃\u001b[1m \u001b[0m\u001b[1mLayer (type)       \u001b[0m\u001b[1m \u001b[0m┃\u001b[1m \u001b[0m\u001b[1mOutput Shape     \u001b[0m\u001b[1m \u001b[0m┃\u001b[1m \u001b[0m\u001b[1m   Param #\u001b[0m\u001b[1m \u001b[0m┃\u001b[1m \u001b[0m\u001b[1mConnected to     \u001b[0m\u001b[1m \u001b[0m┃\n",
              "┡━━━━━━━━━━━━━━━━━━━━━╇━━━━━━━━━━━━━━━━━━━╇━━━━━━━━━━━━╇━━━━━━━━━━━━━━━━━━━┩\n",
              "│ input_features      │ (\u001b[38;5;45mNone\u001b[0m, \u001b[38;5;34m10\u001b[0m)        │          \u001b[38;5;34m0\u001b[0m │ -                 │\n",
              "│ (\u001b[38;5;33mInputLayer\u001b[0m)        │                   │            │                   │\n",
              "├─────────────────────┼───────────────────┼────────────┼───────────────────┤\n",
              "│ dense (\u001b[38;5;33mDense\u001b[0m)       │ (\u001b[38;5;45mNone\u001b[0m, \u001b[38;5;34m24\u001b[0m)        │        \u001b[38;5;34m264\u001b[0m │ input_features[\u001b[38;5;34m0\u001b[0m… │\n",
              "├─────────────────────┼───────────────────┼────────────┼───────────────────┤\n",
              "│ dense_1 (\u001b[38;5;33mDense\u001b[0m)     │ (\u001b[38;5;45mNone\u001b[0m, \u001b[38;5;34m12\u001b[0m)        │        \u001b[38;5;34m300\u001b[0m │ dense[\u001b[38;5;34m0\u001b[0m][\u001b[38;5;34m0\u001b[0m]       │\n",
              "├─────────────────────┼───────────────────┼────────────┼───────────────────┤\n",
              "│ department_hidden   │ (\u001b[38;5;45mNone\u001b[0m, \u001b[38;5;34m12\u001b[0m)        │        \u001b[38;5;34m156\u001b[0m │ dense_1[\u001b[38;5;34m0\u001b[0m][\u001b[38;5;34m0\u001b[0m]     │\n",
              "│ (\u001b[38;5;33mDense\u001b[0m)             │                   │            │                   │\n",
              "├─────────────────────┼───────────────────┼────────────┼───────────────────┤\n",
              "│ attrition_hidden    │ (\u001b[38;5;45mNone\u001b[0m, \u001b[38;5;34m12\u001b[0m)        │        \u001b[38;5;34m156\u001b[0m │ dense_1[\u001b[38;5;34m0\u001b[0m][\u001b[38;5;34m0\u001b[0m]     │\n",
              "│ (\u001b[38;5;33mDense\u001b[0m)             │                   │            │                   │\n",
              "├─────────────────────┼───────────────────┼────────────┼───────────────────┤\n",
              "│ department_output   │ (\u001b[38;5;45mNone\u001b[0m, \u001b[38;5;34m3\u001b[0m)         │         \u001b[38;5;34m39\u001b[0m │ department_hidde… │\n",
              "│ (\u001b[38;5;33mDense\u001b[0m)             │                   │            │                   │\n",
              "├─────────────────────┼───────────────────┼────────────┼───────────────────┤\n",
              "│ attrition_output    │ (\u001b[38;5;45mNone\u001b[0m, \u001b[38;5;34m1\u001b[0m)         │         \u001b[38;5;34m13\u001b[0m │ attrition_hidden… │\n",
              "│ (\u001b[38;5;33mDense\u001b[0m)             │                   │            │                   │\n",
              "└─────────────────────┴───────────────────┴────────────┴───────────────────┘\n"
            ]
          },
          "metadata": {},
          "output_type": "display_data"
        },
        {
          "data": {
            "text/html": [
              "<pre style=\"white-space:pre;overflow-x:auto;line-height:normal;font-family:Menlo,'DejaVu Sans Mono',consolas,'Courier New',monospace\"><span style=\"font-weight: bold\"> Total params: </span><span style=\"color: #00af00; text-decoration-color: #00af00\">928</span> (3.62 KB)\n",
              "</pre>\n"
            ],
            "text/plain": [
              "\u001b[1m Total params: \u001b[0m\u001b[38;5;34m928\u001b[0m (3.62 KB)\n"
            ]
          },
          "metadata": {},
          "output_type": "display_data"
        },
        {
          "data": {
            "text/html": [
              "<pre style=\"white-space:pre;overflow-x:auto;line-height:normal;font-family:Menlo,'DejaVu Sans Mono',consolas,'Courier New',monospace\"><span style=\"font-weight: bold\"> Trainable params: </span><span style=\"color: #00af00; text-decoration-color: #00af00\">928</span> (3.62 KB)\n",
              "</pre>\n"
            ],
            "text/plain": [
              "\u001b[1m Trainable params: \u001b[0m\u001b[38;5;34m928\u001b[0m (3.62 KB)\n"
            ]
          },
          "metadata": {},
          "output_type": "display_data"
        },
        {
          "data": {
            "text/html": [
              "<pre style=\"white-space:pre;overflow-x:auto;line-height:normal;font-family:Menlo,'DejaVu Sans Mono',consolas,'Courier New',monospace\"><span style=\"font-weight: bold\"> Non-trainable params: </span><span style=\"color: #00af00; text-decoration-color: #00af00\">0</span> (0.00 B)\n",
              "</pre>\n"
            ],
            "text/plain": [
              "\u001b[1m Non-trainable params: \u001b[0m\u001b[38;5;34m0\u001b[0m (0.00 B)\n"
            ]
          },
          "metadata": {},
          "output_type": "display_data"
        }
      ],
      "source": [
        "# Create the model\n",
        "model = Model(inputs=input_layer, outputs=[department_output, attrition_output])\n",
        "\n",
        "# Compile the model\n",
        "model.compile(optimizer='adam',\n",
        "              loss={'department_output': 'categorical_crossentropy', 'attrition_output': 'binary_crossentropy'},\n",
        "              metrics={'department_output': 'accuracy', 'attrition_output': 'accuracy'})\n",
        "\n",
        "\n",
        "# Summarize the model\n",
        "model.summary()"
      ]
    },
    {
      "cell_type": "code",
      "execution_count": 28,
      "metadata": {
        "colab": {
          "base_uri": "https://localhost:8080/"
        },
        "id": "c8oGy0dpGc3U",
        "outputId": "cc667d43-28cf-42d4-d719-c2bc02888d30"
      },
      "outputs": [
        {
          "name": "stdout",
          "output_type": "stream",
          "text": [
            "Epoch 1/90\n",
            "\u001b[1m94/94\u001b[0m \u001b[32m━━━━━━━━━━━━━━━━━━━━\u001b[0m\u001b[37m\u001b[0m \u001b[1m1s\u001b[0m 2ms/step - attrition_output_accuracy: 0.2070 - department_output_accuracy: 0.6330 - loss: 8.6032 - val_attrition_output_accuracy: 0.7712 - val_department_output_accuracy: 0.5975 - val_loss: 1.4188\n",
            "Epoch 2/90\n",
            "\u001b[1m94/94\u001b[0m \u001b[32m━━━━━━━━━━━━━━━━━━━━\u001b[0m\u001b[37m\u001b[0m \u001b[1m0s\u001b[0m 586us/step - attrition_output_accuracy: 0.8137 - department_output_accuracy: 0.6279 - loss: 1.3261 - val_attrition_output_accuracy: 0.7966 - val_department_output_accuracy: 0.6102 - val_loss: 1.3724\n",
            "Epoch 3/90\n",
            "\u001b[1m94/94\u001b[0m \u001b[32m━━━━━━━━━━━━━━━━━━━━\u001b[0m\u001b[37m\u001b[0m \u001b[1m0s\u001b[0m 588us/step - attrition_output_accuracy: 0.8276 - department_output_accuracy: 0.6436 - loss: 1.2563 - val_attrition_output_accuracy: 0.7839 - val_department_output_accuracy: 0.6314 - val_loss: 1.3537\n",
            "Epoch 4/90\n",
            "\u001b[1m94/94\u001b[0m \u001b[32m━━━━━━━━━━━━━━━━━━━━\u001b[0m\u001b[37m\u001b[0m \u001b[1m0s\u001b[0m 587us/step - attrition_output_accuracy: 0.8261 - department_output_accuracy: 0.6612 - loss: 1.2461 - val_attrition_output_accuracy: 0.7966 - val_department_output_accuracy: 0.6229 - val_loss: 1.3283\n",
            "Epoch 5/90\n",
            "\u001b[1m94/94\u001b[0m \u001b[32m━━━━━━━━━━━━━━━━━━━━\u001b[0m\u001b[37m\u001b[0m \u001b[1m0s\u001b[0m 548us/step - attrition_output_accuracy: 0.8407 - department_output_accuracy: 0.6565 - loss: 1.2327 - val_attrition_output_accuracy: 0.7966 - val_department_output_accuracy: 0.6356 - val_loss: 1.3256\n",
            "Epoch 6/90\n",
            "\u001b[1m94/94\u001b[0m \u001b[32m━━━━━━━━━━━━━━━━━━━━\u001b[0m\u001b[37m\u001b[0m \u001b[1m0s\u001b[0m 575us/step - attrition_output_accuracy: 0.8243 - department_output_accuracy: 0.6322 - loss: 1.2886 - val_attrition_output_accuracy: 0.7966 - val_department_output_accuracy: 0.6314 - val_loss: 1.3466\n",
            "Epoch 7/90\n",
            "\u001b[1m94/94\u001b[0m \u001b[32m━━━━━━━━━━━━━━━━━━━━\u001b[0m\u001b[37m\u001b[0m \u001b[1m0s\u001b[0m 566us/step - attrition_output_accuracy: 0.8440 - department_output_accuracy: 0.6454 - loss: 1.2215 - val_attrition_output_accuracy: 0.7839 - val_department_output_accuracy: 0.6314 - val_loss: 1.3337\n",
            "Epoch 8/90\n",
            "\u001b[1m94/94\u001b[0m \u001b[32m━━━━━━━━━━━━━━━━━━━━\u001b[0m\u001b[37m\u001b[0m \u001b[1m0s\u001b[0m 561us/step - attrition_output_accuracy: 0.8499 - department_output_accuracy: 0.6486 - loss: 1.1995 - val_attrition_output_accuracy: 0.7966 - val_department_output_accuracy: 0.6144 - val_loss: 1.3108\n",
            "Epoch 9/90\n",
            "\u001b[1m94/94\u001b[0m \u001b[32m━━━━━━━━━━━━━━━━━━━━\u001b[0m\u001b[37m\u001b[0m \u001b[1m0s\u001b[0m 573us/step - attrition_output_accuracy: 0.8299 - department_output_accuracy: 0.6463 - loss: 1.2234 - val_attrition_output_accuracy: 0.7966 - val_department_output_accuracy: 0.6314 - val_loss: 1.3247\n",
            "Epoch 10/90\n",
            "\u001b[1m94/94\u001b[0m \u001b[32m━━━━━━━━━━━━━━━━━━━━\u001b[0m\u001b[37m\u001b[0m \u001b[1m0s\u001b[0m 546us/step - attrition_output_accuracy: 0.8422 - department_output_accuracy: 0.6806 - loss: 1.1692 - val_attrition_output_accuracy: 0.7966 - val_department_output_accuracy: 0.6271 - val_loss: 1.3113\n",
            "Epoch 11/90\n",
            "\u001b[1m94/94\u001b[0m \u001b[32m━━━━━━━━━━━━━━━━━━━━\u001b[0m\u001b[37m\u001b[0m \u001b[1m0s\u001b[0m 548us/step - attrition_output_accuracy: 0.8383 - department_output_accuracy: 0.6170 - loss: 1.2288 - val_attrition_output_accuracy: 0.7966 - val_department_output_accuracy: 0.6017 - val_loss: 1.3086\n",
            "Epoch 12/90\n",
            "\u001b[1m94/94\u001b[0m \u001b[32m━━━━━━━━━━━━━━━━━━━━\u001b[0m\u001b[37m\u001b[0m \u001b[1m0s\u001b[0m 560us/step - attrition_output_accuracy: 0.8423 - department_output_accuracy: 0.6761 - loss: 1.1775 - val_attrition_output_accuracy: 0.7966 - val_department_output_accuracy: 0.6017 - val_loss: 1.3062\n",
            "Epoch 13/90\n",
            "\u001b[1m94/94\u001b[0m \u001b[32m━━━━━━━━━━━━━━━━━━━━\u001b[0m\u001b[37m\u001b[0m \u001b[1m0s\u001b[0m 566us/step - attrition_output_accuracy: 0.8351 - department_output_accuracy: 0.6593 - loss: 1.1940 - val_attrition_output_accuracy: 0.7966 - val_department_output_accuracy: 0.6314 - val_loss: 1.3086\n",
            "Epoch 14/90\n",
            "\u001b[1m94/94\u001b[0m \u001b[32m━━━━━━━━━━━━━━━━━━━━\u001b[0m\u001b[37m\u001b[0m \u001b[1m0s\u001b[0m 556us/step - attrition_output_accuracy: 0.8450 - department_output_accuracy: 0.6620 - loss: 1.1851 - val_attrition_output_accuracy: 0.7966 - val_department_output_accuracy: 0.6271 - val_loss: 1.3052\n",
            "Epoch 15/90\n",
            "\u001b[1m94/94\u001b[0m \u001b[32m━━━━━━━━━━━━━━━━━━━━\u001b[0m\u001b[37m\u001b[0m \u001b[1m0s\u001b[0m 581us/step - attrition_output_accuracy: 0.8418 - department_output_accuracy: 0.6710 - loss: 1.1689 - val_attrition_output_accuracy: 0.7966 - val_department_output_accuracy: 0.6314 - val_loss: 1.3171\n",
            "Epoch 16/90\n",
            "\u001b[1m94/94\u001b[0m \u001b[32m━━━━━━━━━━━━━━━━━━━━\u001b[0m\u001b[37m\u001b[0m \u001b[1m0s\u001b[0m 615us/step - attrition_output_accuracy: 0.8091 - department_output_accuracy: 0.6523 - loss: 1.2477 - val_attrition_output_accuracy: 0.7966 - val_department_output_accuracy: 0.6271 - val_loss: 1.3016\n",
            "Epoch 17/90\n",
            "\u001b[1m94/94\u001b[0m \u001b[32m━━━━━━━━━━━━━━━━━━━━\u001b[0m\u001b[37m\u001b[0m \u001b[1m0s\u001b[0m 573us/step - attrition_output_accuracy: 0.8428 - department_output_accuracy: 0.6643 - loss: 1.1520 - val_attrition_output_accuracy: 0.7966 - val_department_output_accuracy: 0.6314 - val_loss: 1.3169\n",
            "Epoch 18/90\n",
            "\u001b[1m94/94\u001b[0m \u001b[32m━━━━━━━━━━━━━━━━━━━━\u001b[0m\u001b[37m\u001b[0m \u001b[1m0s\u001b[0m 588us/step - attrition_output_accuracy: 0.8377 - department_output_accuracy: 0.6433 - loss: 1.1848 - val_attrition_output_accuracy: 0.7966 - val_department_output_accuracy: 0.6271 - val_loss: 1.3053\n",
            "Epoch 19/90\n",
            "\u001b[1m94/94\u001b[0m \u001b[32m━━━━━━━━━━━━━━━━━━━━\u001b[0m\u001b[37m\u001b[0m \u001b[1m0s\u001b[0m 599us/step - attrition_output_accuracy: 0.8190 - department_output_accuracy: 0.6195 - loss: 1.2453 - val_attrition_output_accuracy: 0.7966 - val_department_output_accuracy: 0.6271 - val_loss: 1.3290\n",
            "Epoch 20/90\n",
            "\u001b[1m94/94\u001b[0m \u001b[32m━━━━━━━━━━━━━━━━━━━━\u001b[0m\u001b[37m\u001b[0m \u001b[1m0s\u001b[0m 594us/step - attrition_output_accuracy: 0.8378 - department_output_accuracy: 0.6659 - loss: 1.1783 - val_attrition_output_accuracy: 0.7924 - val_department_output_accuracy: 0.6102 - val_loss: 1.3065\n",
            "Epoch 21/90\n",
            "\u001b[1m94/94\u001b[0m \u001b[32m━━━━━━━━━━━━━━━━━━━━\u001b[0m\u001b[37m\u001b[0m \u001b[1m0s\u001b[0m 565us/step - attrition_output_accuracy: 0.8431 - department_output_accuracy: 0.6660 - loss: 1.1368 - val_attrition_output_accuracy: 0.7966 - val_department_output_accuracy: 0.6102 - val_loss: 1.3147\n",
            "Epoch 22/90\n",
            "\u001b[1m94/94\u001b[0m \u001b[32m━━━━━━━━━━━━━━━━━━━━\u001b[0m\u001b[37m\u001b[0m \u001b[1m0s\u001b[0m 581us/step - attrition_output_accuracy: 0.8340 - department_output_accuracy: 0.6436 - loss: 1.1724 - val_attrition_output_accuracy: 0.7966 - val_department_output_accuracy: 0.6229 - val_loss: 1.2976\n",
            "Epoch 23/90\n",
            "\u001b[1m94/94\u001b[0m \u001b[32m━━━━━━━━━━━━━━━━━━━━\u001b[0m\u001b[37m\u001b[0m \u001b[1m0s\u001b[0m 593us/step - attrition_output_accuracy: 0.8218 - department_output_accuracy: 0.6628 - loss: 1.2006 - val_attrition_output_accuracy: 0.7966 - val_department_output_accuracy: 0.6229 - val_loss: 1.3286\n",
            "Epoch 24/90\n",
            "\u001b[1m94/94\u001b[0m \u001b[32m━━━━━━━━━━━━━━━━━━━━\u001b[0m\u001b[37m\u001b[0m \u001b[1m0s\u001b[0m 600us/step - attrition_output_accuracy: 0.8301 - department_output_accuracy: 0.6528 - loss: 1.2016 - val_attrition_output_accuracy: 0.7966 - val_department_output_accuracy: 0.6229 - val_loss: 1.3164\n",
            "Epoch 25/90\n",
            "\u001b[1m94/94\u001b[0m \u001b[32m━━━━━━━━━━━━━━━━━━━━\u001b[0m\u001b[37m\u001b[0m \u001b[1m0s\u001b[0m 587us/step - attrition_output_accuracy: 0.8353 - department_output_accuracy: 0.6721 - loss: 1.1787 - val_attrition_output_accuracy: 0.7966 - val_department_output_accuracy: 0.6229 - val_loss: 1.2971\n",
            "Epoch 26/90\n",
            "\u001b[1m94/94\u001b[0m \u001b[32m━━━━━━━━━━━━━━━━━━━━\u001b[0m\u001b[37m\u001b[0m \u001b[1m0s\u001b[0m 601us/step - attrition_output_accuracy: 0.8395 - department_output_accuracy: 0.6919 - loss: 1.1420 - val_attrition_output_accuracy: 0.7966 - val_department_output_accuracy: 0.5763 - val_loss: 1.3147\n",
            "Epoch 27/90\n",
            "\u001b[1m94/94\u001b[0m \u001b[32m━━━━━━━━━━━━━━━━━━━━\u001b[0m\u001b[37m\u001b[0m \u001b[1m0s\u001b[0m 581us/step - attrition_output_accuracy: 0.8486 - department_output_accuracy: 0.6768 - loss: 1.1143 - val_attrition_output_accuracy: 0.7966 - val_department_output_accuracy: 0.6144 - val_loss: 1.3122\n",
            "Epoch 28/90\n",
            "\u001b[1m94/94\u001b[0m \u001b[32m━━━━━━━━━━━━━━━━━━━━\u001b[0m\u001b[37m\u001b[0m \u001b[1m0s\u001b[0m 605us/step - attrition_output_accuracy: 0.8570 - department_output_accuracy: 0.6484 - loss: 1.1517 - val_attrition_output_accuracy: 0.7966 - val_department_output_accuracy: 0.6271 - val_loss: 1.3059\n",
            "Epoch 29/90\n",
            "\u001b[1m94/94\u001b[0m \u001b[32m━━━━━━━━━━━━━━━━━━━━\u001b[0m\u001b[37m\u001b[0m \u001b[1m0s\u001b[0m 597us/step - attrition_output_accuracy: 0.8222 - department_output_accuracy: 0.6752 - loss: 1.1563 - val_attrition_output_accuracy: 0.7966 - val_department_output_accuracy: 0.6229 - val_loss: 1.3047\n",
            "Epoch 30/90\n",
            "\u001b[1m94/94\u001b[0m \u001b[32m━━━━━━━━━━━━━━━━━━━━\u001b[0m\u001b[37m\u001b[0m \u001b[1m0s\u001b[0m 593us/step - attrition_output_accuracy: 0.8480 - department_output_accuracy: 0.6573 - loss: 1.1363 - val_attrition_output_accuracy: 0.7966 - val_department_output_accuracy: 0.6229 - val_loss: 1.3189\n",
            "Epoch 31/90\n",
            "\u001b[1m94/94\u001b[0m \u001b[32m━━━━━━━━━━━━━━━━━━━━\u001b[0m\u001b[37m\u001b[0m \u001b[1m0s\u001b[0m 561us/step - attrition_output_accuracy: 0.8599 - department_output_accuracy: 0.6896 - loss: 1.0956 - val_attrition_output_accuracy: 0.7966 - val_department_output_accuracy: 0.6102 - val_loss: 1.3123\n",
            "Epoch 32/90\n",
            "\u001b[1m94/94\u001b[0m \u001b[32m━━━━━━━━━━━━━━━━━━━━\u001b[0m\u001b[37m\u001b[0m \u001b[1m0s\u001b[0m 585us/step - attrition_output_accuracy: 0.8513 - department_output_accuracy: 0.6405 - loss: 1.1249 - val_attrition_output_accuracy: 0.7966 - val_department_output_accuracy: 0.6229 - val_loss: 1.3068\n",
            "Epoch 33/90\n",
            "\u001b[1m94/94\u001b[0m \u001b[32m━━━━━━━━━━━━━━━━━━━━\u001b[0m\u001b[37m\u001b[0m \u001b[1m0s\u001b[0m 584us/step - attrition_output_accuracy: 0.8356 - department_output_accuracy: 0.6406 - loss: 1.1859 - val_attrition_output_accuracy: 0.7966 - val_department_output_accuracy: 0.6229 - val_loss: 1.3086\n",
            "Epoch 34/90\n",
            "\u001b[1m94/94\u001b[0m \u001b[32m━━━━━━━━━━━━━━━━━━━━\u001b[0m\u001b[37m\u001b[0m \u001b[1m0s\u001b[0m 568us/step - attrition_output_accuracy: 0.8317 - department_output_accuracy: 0.6424 - loss: 1.1519 - val_attrition_output_accuracy: 0.7966 - val_department_output_accuracy: 0.6229 - val_loss: 1.3381\n",
            "Epoch 35/90\n",
            "\u001b[1m94/94\u001b[0m \u001b[32m━━━━━━━━━━━━━━━━━━━━\u001b[0m\u001b[37m\u001b[0m \u001b[1m0s\u001b[0m 591us/step - attrition_output_accuracy: 0.8462 - department_output_accuracy: 0.6863 - loss: 1.1318 - val_attrition_output_accuracy: 0.7966 - val_department_output_accuracy: 0.6229 - val_loss: 1.2962\n",
            "Epoch 36/90\n",
            "\u001b[1m94/94\u001b[0m \u001b[32m━━━━━━━━━━━━━━━━━━━━\u001b[0m\u001b[37m\u001b[0m \u001b[1m0s\u001b[0m 578us/step - attrition_output_accuracy: 0.8310 - department_output_accuracy: 0.6483 - loss: 1.1907 - val_attrition_output_accuracy: 0.7966 - val_department_output_accuracy: 0.6271 - val_loss: 1.2879\n",
            "Epoch 37/90\n",
            "\u001b[1m94/94\u001b[0m \u001b[32m━━━━━━━━━━━━━━━━━━━━\u001b[0m\u001b[37m\u001b[0m \u001b[1m0s\u001b[0m 563us/step - attrition_output_accuracy: 0.8576 - department_output_accuracy: 0.6569 - loss: 1.1186 - val_attrition_output_accuracy: 0.7966 - val_department_output_accuracy: 0.6229 - val_loss: 1.3060\n",
            "Epoch 38/90\n",
            "\u001b[1m94/94\u001b[0m \u001b[32m━━━━━━━━━━━━━━━━━━━━\u001b[0m\u001b[37m\u001b[0m \u001b[1m0s\u001b[0m 549us/step - attrition_output_accuracy: 0.8396 - department_output_accuracy: 0.6440 - loss: 1.1494 - val_attrition_output_accuracy: 0.7966 - val_department_output_accuracy: 0.6229 - val_loss: 1.3208\n",
            "Epoch 39/90\n",
            "\u001b[1m94/94\u001b[0m \u001b[32m━━━━━━━━━━━━━━━━━━━━\u001b[0m\u001b[37m\u001b[0m \u001b[1m0s\u001b[0m 555us/step - attrition_output_accuracy: 0.8512 - department_output_accuracy: 0.6754 - loss: 1.1118 - val_attrition_output_accuracy: 0.7966 - val_department_output_accuracy: 0.6186 - val_loss: 1.3042\n",
            "Epoch 40/90\n",
            "\u001b[1m94/94\u001b[0m \u001b[32m━━━━━━━━━━━━━━━━━━━━\u001b[0m\u001b[37m\u001b[0m \u001b[1m0s\u001b[0m 601us/step - attrition_output_accuracy: 0.8642 - department_output_accuracy: 0.6813 - loss: 1.0997 - val_attrition_output_accuracy: 0.7966 - val_department_output_accuracy: 0.6229 - val_loss: 1.3114\n",
            "Epoch 41/90\n",
            "\u001b[1m94/94\u001b[0m \u001b[32m━━━━━━━━━━━━━━━━━━━━\u001b[0m\u001b[37m\u001b[0m \u001b[1m0s\u001b[0m 592us/step - attrition_output_accuracy: 0.8477 - department_output_accuracy: 0.6784 - loss: 1.1129 - val_attrition_output_accuracy: 0.7966 - val_department_output_accuracy: 0.6186 - val_loss: 1.3193\n",
            "Epoch 42/90\n",
            "\u001b[1m94/94\u001b[0m \u001b[32m━━━━━━━━━━━━━━━━━━━━\u001b[0m\u001b[37m\u001b[0m \u001b[1m0s\u001b[0m 622us/step - attrition_output_accuracy: 0.8262 - department_output_accuracy: 0.6550 - loss: 1.1608 - val_attrition_output_accuracy: 0.7966 - val_department_output_accuracy: 0.6271 - val_loss: 1.3230\n",
            "Epoch 43/90\n",
            "\u001b[1m94/94\u001b[0m \u001b[32m━━━━━━━━━━━━━━━━━━━━\u001b[0m\u001b[37m\u001b[0m \u001b[1m0s\u001b[0m 639us/step - attrition_output_accuracy: 0.8498 - department_output_accuracy: 0.6482 - loss: 1.1377 - val_attrition_output_accuracy: 0.8093 - val_department_output_accuracy: 0.6229 - val_loss: 1.3002\n",
            "Epoch 44/90\n",
            "\u001b[1m94/94\u001b[0m \u001b[32m━━━━━━━━━━━━━━━━━━━━\u001b[0m\u001b[37m\u001b[0m \u001b[1m0s\u001b[0m 623us/step - attrition_output_accuracy: 0.7995 - department_output_accuracy: 0.6414 - loss: 1.1740 - val_attrition_output_accuracy: 0.7966 - val_department_output_accuracy: 0.6186 - val_loss: 1.3211\n",
            "Epoch 45/90\n",
            "\u001b[1m94/94\u001b[0m \u001b[32m━━━━━━━━━━━━━━━━━━━━\u001b[0m\u001b[37m\u001b[0m \u001b[1m0s\u001b[0m 576us/step - attrition_output_accuracy: 0.8472 - department_output_accuracy: 0.6669 - loss: 1.1190 - val_attrition_output_accuracy: 0.7966 - val_department_output_accuracy: 0.6144 - val_loss: 1.3090\n",
            "Epoch 46/90\n",
            "\u001b[1m94/94\u001b[0m \u001b[32m━━━━━━━━━━━━━━━━━━━━\u001b[0m\u001b[37m\u001b[0m \u001b[1m0s\u001b[0m 567us/step - attrition_output_accuracy: 0.8575 - department_output_accuracy: 0.6343 - loss: 1.1421 - val_attrition_output_accuracy: 0.7966 - val_department_output_accuracy: 0.6271 - val_loss: 1.3280\n",
            "Epoch 47/90\n",
            "\u001b[1m94/94\u001b[0m \u001b[32m━━━━━━━━━━━━━━━━━━━━\u001b[0m\u001b[37m\u001b[0m \u001b[1m0s\u001b[0m 570us/step - attrition_output_accuracy: 0.8408 - department_output_accuracy: 0.6731 - loss: 1.1112 - val_attrition_output_accuracy: 0.7966 - val_department_output_accuracy: 0.6271 - val_loss: 1.3142\n",
            "Epoch 48/90\n",
            "\u001b[1m94/94\u001b[0m \u001b[32m━━━━━━━━━━━━━━━━━━━━\u001b[0m\u001b[37m\u001b[0m \u001b[1m0s\u001b[0m 543us/step - attrition_output_accuracy: 0.8385 - department_output_accuracy: 0.6702 - loss: 1.1198 - val_attrition_output_accuracy: 0.7966 - val_department_output_accuracy: 0.6314 - val_loss: 1.3115\n",
            "Epoch 49/90\n",
            "\u001b[1m94/94\u001b[0m \u001b[32m━━━━━━━━━━━━━━━━━━━━\u001b[0m\u001b[37m\u001b[0m \u001b[1m0s\u001b[0m 543us/step - attrition_output_accuracy: 0.8311 - department_output_accuracy: 0.6566 - loss: 1.1894 - val_attrition_output_accuracy: 0.7966 - val_department_output_accuracy: 0.6186 - val_loss: 1.3215\n",
            "Epoch 50/90\n",
            "\u001b[1m94/94\u001b[0m \u001b[32m━━━━━━━━━━━━━━━━━━━━\u001b[0m\u001b[37m\u001b[0m \u001b[1m0s\u001b[0m 551us/step - attrition_output_accuracy: 0.8383 - department_output_accuracy: 0.6510 - loss: 1.1646 - val_attrition_output_accuracy: 0.7966 - val_department_output_accuracy: 0.6229 - val_loss: 1.3122\n",
            "Epoch 51/90\n",
            "\u001b[1m94/94\u001b[0m \u001b[32m━━━━━━━━━━━━━━━━━━━━\u001b[0m\u001b[37m\u001b[0m \u001b[1m0s\u001b[0m 553us/step - attrition_output_accuracy: 0.8398 - department_output_accuracy: 0.6645 - loss: 1.1893 - val_attrition_output_accuracy: 0.7966 - val_department_output_accuracy: 0.6271 - val_loss: 1.3310\n",
            "Epoch 52/90\n",
            "\u001b[1m94/94\u001b[0m \u001b[32m━━━━━━━━━━━━━━━━━━━━\u001b[0m\u001b[37m\u001b[0m \u001b[1m0s\u001b[0m 552us/step - attrition_output_accuracy: 0.8389 - department_output_accuracy: 0.6748 - loss: 1.1256 - val_attrition_output_accuracy: 0.7966 - val_department_output_accuracy: 0.6102 - val_loss: 1.3432\n",
            "Epoch 53/90\n",
            "\u001b[1m94/94\u001b[0m \u001b[32m━━━━━━━━━━━━━━━━━━━━\u001b[0m\u001b[37m\u001b[0m \u001b[1m0s\u001b[0m 548us/step - attrition_output_accuracy: 0.8779 - department_output_accuracy: 0.6676 - loss: 1.0807 - val_attrition_output_accuracy: 0.7924 - val_department_output_accuracy: 0.6271 - val_loss: 1.3295\n",
            "Epoch 54/90\n",
            "\u001b[1m94/94\u001b[0m \u001b[32m━━━━━━━━━━━━━━━━━━━━\u001b[0m\u001b[37m\u001b[0m \u001b[1m0s\u001b[0m 540us/step - attrition_output_accuracy: 0.8374 - department_output_accuracy: 0.6600 - loss: 1.1363 - val_attrition_output_accuracy: 0.7881 - val_department_output_accuracy: 0.6229 - val_loss: 1.3633\n",
            "Epoch 55/90\n",
            "\u001b[1m94/94\u001b[0m \u001b[32m━━━━━━━━━━━━━━━━━━━━\u001b[0m\u001b[37m\u001b[0m \u001b[1m0s\u001b[0m 548us/step - attrition_output_accuracy: 0.8254 - department_output_accuracy: 0.6516 - loss: 1.1613 - val_attrition_output_accuracy: 0.7924 - val_department_output_accuracy: 0.6229 - val_loss: 1.3340\n",
            "Epoch 56/90\n",
            "\u001b[1m94/94\u001b[0m \u001b[32m━━━━━━━━━━━━━━━━━━━━\u001b[0m\u001b[37m\u001b[0m \u001b[1m0s\u001b[0m 555us/step - attrition_output_accuracy: 0.8547 - department_output_accuracy: 0.6504 - loss: 1.1316 - val_attrition_output_accuracy: 0.7966 - val_department_output_accuracy: 0.6229 - val_loss: 1.3141\n",
            "Epoch 57/90\n",
            "\u001b[1m94/94\u001b[0m \u001b[32m━━━━━━━━━━━━━━━━━━━━\u001b[0m\u001b[37m\u001b[0m \u001b[1m0s\u001b[0m 574us/step - attrition_output_accuracy: 0.8307 - department_output_accuracy: 0.6603 - loss: 1.1298 - val_attrition_output_accuracy: 0.7966 - val_department_output_accuracy: 0.6271 - val_loss: 1.3276\n",
            "Epoch 58/90\n",
            "\u001b[1m94/94\u001b[0m \u001b[32m━━━━━━━━━━━━━━━━━━━━\u001b[0m\u001b[37m\u001b[0m \u001b[1m0s\u001b[0m 558us/step - attrition_output_accuracy: 0.8511 - department_output_accuracy: 0.6650 - loss: 1.1068 - val_attrition_output_accuracy: 0.7966 - val_department_output_accuracy: 0.6271 - val_loss: 1.3439\n",
            "Epoch 59/90\n",
            "\u001b[1m94/94\u001b[0m \u001b[32m━━━━━━━━━━━━━━━━━━━━\u001b[0m\u001b[37m\u001b[0m \u001b[1m0s\u001b[0m 560us/step - attrition_output_accuracy: 0.8451 - department_output_accuracy: 0.6749 - loss: 1.1081 - val_attrition_output_accuracy: 0.8051 - val_department_output_accuracy: 0.6271 - val_loss: 1.3243\n",
            "Epoch 60/90\n",
            "\u001b[1m94/94\u001b[0m \u001b[32m━━━━━━━━━━━━━━━━━━━━\u001b[0m\u001b[37m\u001b[0m \u001b[1m0s\u001b[0m 565us/step - attrition_output_accuracy: 0.8445 - department_output_accuracy: 0.6805 - loss: 1.1172 - val_attrition_output_accuracy: 0.7966 - val_department_output_accuracy: 0.6271 - val_loss: 1.3394\n",
            "Epoch 61/90\n",
            "\u001b[1m94/94\u001b[0m \u001b[32m━━━━━━━━━━━━━━━━━━━━\u001b[0m\u001b[37m\u001b[0m \u001b[1m0s\u001b[0m 604us/step - attrition_output_accuracy: 0.8169 - department_output_accuracy: 0.6496 - loss: 1.2023 - val_attrition_output_accuracy: 0.7966 - val_department_output_accuracy: 0.6314 - val_loss: 1.3480\n",
            "Epoch 62/90\n",
            "\u001b[1m94/94\u001b[0m \u001b[32m━━━━━━━━━━━━━━━━━━━━\u001b[0m\u001b[37m\u001b[0m \u001b[1m0s\u001b[0m 615us/step - attrition_output_accuracy: 0.8437 - department_output_accuracy: 0.6672 - loss: 1.0944 - val_attrition_output_accuracy: 0.7924 - val_department_output_accuracy: 0.6271 - val_loss: 1.3437\n",
            "Epoch 63/90\n",
            "\u001b[1m94/94\u001b[0m \u001b[32m━━━━━━━━━━━━━━━━━━━━\u001b[0m\u001b[37m\u001b[0m \u001b[1m0s\u001b[0m 589us/step - attrition_output_accuracy: 0.8428 - department_output_accuracy: 0.6648 - loss: 1.1179 - val_attrition_output_accuracy: 0.8008 - val_department_output_accuracy: 0.6271 - val_loss: 1.3056\n",
            "Epoch 64/90\n",
            "\u001b[1m94/94\u001b[0m \u001b[32m━━━━━━━━━━━━━━━━━━━━\u001b[0m\u001b[37m\u001b[0m \u001b[1m0s\u001b[0m 556us/step - attrition_output_accuracy: 0.8248 - department_output_accuracy: 0.6669 - loss: 1.1334 - val_attrition_output_accuracy: 0.7924 - val_department_output_accuracy: 0.6271 - val_loss: 1.3409\n",
            "Epoch 65/90\n",
            "\u001b[1m94/94\u001b[0m \u001b[32m━━━━━━━━━━━━━━━━━━━━\u001b[0m\u001b[37m\u001b[0m \u001b[1m0s\u001b[0m 594us/step - attrition_output_accuracy: 0.8211 - department_output_accuracy: 0.6856 - loss: 1.1416 - val_attrition_output_accuracy: 0.7966 - val_department_output_accuracy: 0.6059 - val_loss: 1.3460\n",
            "Epoch 66/90\n",
            "\u001b[1m94/94\u001b[0m \u001b[32m━━━━━━━━━━━━━━━━━━━━\u001b[0m\u001b[37m\u001b[0m \u001b[1m0s\u001b[0m 628us/step - attrition_output_accuracy: 0.8470 - department_output_accuracy: 0.6531 - loss: 1.0976 - val_attrition_output_accuracy: 0.7966 - val_department_output_accuracy: 0.6271 - val_loss: 1.3263\n",
            "Epoch 67/90\n",
            "\u001b[1m94/94\u001b[0m \u001b[32m━━━━━━━━━━━━━━━━━━━━\u001b[0m\u001b[37m\u001b[0m \u001b[1m0s\u001b[0m 625us/step - attrition_output_accuracy: 0.8342 - department_output_accuracy: 0.6551 - loss: 1.1470 - val_attrition_output_accuracy: 0.7924 - val_department_output_accuracy: 0.6271 - val_loss: 1.3254\n",
            "Epoch 68/90\n",
            "\u001b[1m94/94\u001b[0m \u001b[32m━━━━━━━━━━━━━━━━━━━━\u001b[0m\u001b[37m\u001b[0m \u001b[1m0s\u001b[0m 668us/step - attrition_output_accuracy: 0.8593 - department_output_accuracy: 0.6671 - loss: 1.0957 - val_attrition_output_accuracy: 0.7924 - val_department_output_accuracy: 0.6271 - val_loss: 1.3468\n",
            "Epoch 69/90\n",
            "\u001b[1m94/94\u001b[0m \u001b[32m━━━━━━━━━━━━━━━━━━━━\u001b[0m\u001b[37m\u001b[0m \u001b[1m0s\u001b[0m 659us/step - attrition_output_accuracy: 0.8363 - department_output_accuracy: 0.6999 - loss: 1.0876 - val_attrition_output_accuracy: 0.7966 - val_department_output_accuracy: 0.6271 - val_loss: 1.3396\n",
            "Epoch 70/90\n",
            "\u001b[1m94/94\u001b[0m \u001b[32m━━━━━━━━━━━━━━━━━━━━\u001b[0m\u001b[37m\u001b[0m \u001b[1m0s\u001b[0m 660us/step - attrition_output_accuracy: 0.8322 - department_output_accuracy: 0.6632 - loss: 1.1252 - val_attrition_output_accuracy: 0.7924 - val_department_output_accuracy: 0.6271 - val_loss: 1.3225\n",
            "Epoch 71/90\n",
            "\u001b[1m94/94\u001b[0m \u001b[32m━━━━━━━━━━━━━━━━━━━━\u001b[0m\u001b[37m\u001b[0m \u001b[1m0s\u001b[0m 645us/step - attrition_output_accuracy: 0.8506 - department_output_accuracy: 0.6568 - loss: 1.1245 - val_attrition_output_accuracy: 0.7924 - val_department_output_accuracy: 0.6314 - val_loss: 1.3427\n",
            "Epoch 72/90\n",
            "\u001b[1m94/94\u001b[0m \u001b[32m━━━━━━━━━━━━━━━━━━━━\u001b[0m\u001b[37m\u001b[0m \u001b[1m0s\u001b[0m 620us/step - attrition_output_accuracy: 0.8527 - department_output_accuracy: 0.6565 - loss: 1.1262 - val_attrition_output_accuracy: 0.7966 - val_department_output_accuracy: 0.6314 - val_loss: 1.3282\n",
            "Epoch 73/90\n",
            "\u001b[1m94/94\u001b[0m \u001b[32m━━━━━━━━━━━━━━━━━━━━\u001b[0m\u001b[37m\u001b[0m \u001b[1m0s\u001b[0m 582us/step - attrition_output_accuracy: 0.8457 - department_output_accuracy: 0.6958 - loss: 1.0902 - val_attrition_output_accuracy: 0.8051 - val_department_output_accuracy: 0.6229 - val_loss: 1.3057\n",
            "Epoch 74/90\n",
            "\u001b[1m94/94\u001b[0m \u001b[32m━━━━━━━━━━━━━━━━━━━━\u001b[0m\u001b[37m\u001b[0m \u001b[1m0s\u001b[0m 577us/step - attrition_output_accuracy: 0.8407 - department_output_accuracy: 0.6105 - loss: 1.1682 - val_attrition_output_accuracy: 0.7924 - val_department_output_accuracy: 0.6314 - val_loss: 1.3618\n",
            "Epoch 75/90\n",
            "\u001b[1m94/94\u001b[0m \u001b[32m━━━━━━━━━━━━━━━━━━━━\u001b[0m\u001b[37m\u001b[0m \u001b[1m0s\u001b[0m 578us/step - attrition_output_accuracy: 0.8357 - department_output_accuracy: 0.6405 - loss: 1.1587 - val_attrition_output_accuracy: 0.7924 - val_department_output_accuracy: 0.6186 - val_loss: 1.3409\n",
            "Epoch 76/90\n",
            "\u001b[1m94/94\u001b[0m \u001b[32m━━━━━━━━━━━━━━━━━━━━\u001b[0m\u001b[37m\u001b[0m \u001b[1m0s\u001b[0m 565us/step - attrition_output_accuracy: 0.8462 - department_output_accuracy: 0.6799 - loss: 1.0921 - val_attrition_output_accuracy: 0.7924 - val_department_output_accuracy: 0.6271 - val_loss: 1.3429\n",
            "Epoch 77/90\n",
            "\u001b[1m94/94\u001b[0m \u001b[32m━━━━━━━━━━━━━━━━━━━━\u001b[0m\u001b[37m\u001b[0m \u001b[1m0s\u001b[0m 542us/step - attrition_output_accuracy: 0.8462 - department_output_accuracy: 0.6672 - loss: 1.1044 - val_attrition_output_accuracy: 0.7924 - val_department_output_accuracy: 0.6314 - val_loss: 1.3393\n",
            "Epoch 78/90\n",
            "\u001b[1m94/94\u001b[0m \u001b[32m━━━━━━━━━━━━━━━━━━━━\u001b[0m\u001b[37m\u001b[0m \u001b[1m0s\u001b[0m 546us/step - attrition_output_accuracy: 0.8292 - department_output_accuracy: 0.6587 - loss: 1.1161 - val_attrition_output_accuracy: 0.7924 - val_department_output_accuracy: 0.6356 - val_loss: 1.3314\n",
            "Epoch 79/90\n",
            "\u001b[1m94/94\u001b[0m \u001b[32m━━━━━━━━━━━━━━━━━━━━\u001b[0m\u001b[37m\u001b[0m \u001b[1m0s\u001b[0m 575us/step - attrition_output_accuracy: 0.8517 - department_output_accuracy: 0.6593 - loss: 1.1077 - val_attrition_output_accuracy: 0.7924 - val_department_output_accuracy: 0.6271 - val_loss: 1.3316\n",
            "Epoch 80/90\n",
            "\u001b[1m94/94\u001b[0m \u001b[32m━━━━━━━━━━━━━━━━━━━━\u001b[0m\u001b[37m\u001b[0m \u001b[1m0s\u001b[0m 540us/step - attrition_output_accuracy: 0.8373 - department_output_accuracy: 0.6512 - loss: 1.1540 - val_attrition_output_accuracy: 0.8051 - val_department_output_accuracy: 0.6314 - val_loss: 1.3215\n",
            "Epoch 81/90\n",
            "\u001b[1m94/94\u001b[0m \u001b[32m━━━━━━━━━━━━━━━━━━━━\u001b[0m\u001b[37m\u001b[0m \u001b[1m0s\u001b[0m 544us/step - attrition_output_accuracy: 0.8514 - department_output_accuracy: 0.6660 - loss: 1.0919 - val_attrition_output_accuracy: 0.8008 - val_department_output_accuracy: 0.6314 - val_loss: 1.3369\n",
            "Epoch 82/90\n",
            "\u001b[1m94/94\u001b[0m \u001b[32m━━━━━━━━━━━━━━━━━━━━\u001b[0m\u001b[37m\u001b[0m \u001b[1m0s\u001b[0m 550us/step - attrition_output_accuracy: 0.8489 - department_output_accuracy: 0.6623 - loss: 1.1195 - val_attrition_output_accuracy: 0.7966 - val_department_output_accuracy: 0.6314 - val_loss: 1.3218\n",
            "Epoch 83/90\n",
            "\u001b[1m94/94\u001b[0m \u001b[32m━━━━━━━━━━━━━━━━━━━━\u001b[0m\u001b[37m\u001b[0m \u001b[1m0s\u001b[0m 555us/step - attrition_output_accuracy: 0.8356 - department_output_accuracy: 0.6797 - loss: 1.1015 - val_attrition_output_accuracy: 0.8051 - val_department_output_accuracy: 0.6271 - val_loss: 1.3112\n",
            "Epoch 84/90\n",
            "\u001b[1m94/94\u001b[0m \u001b[32m━━━━━━━━━━━━━━━━━━━━\u001b[0m\u001b[37m\u001b[0m \u001b[1m0s\u001b[0m 549us/step - attrition_output_accuracy: 0.8637 - department_output_accuracy: 0.6722 - loss: 1.1051 - val_attrition_output_accuracy: 0.8008 - val_department_output_accuracy: 0.6356 - val_loss: 1.3272\n",
            "Epoch 85/90\n",
            "\u001b[1m94/94\u001b[0m \u001b[32m━━━━━━━━━━━━━━━━━━━━\u001b[0m\u001b[37m\u001b[0m \u001b[1m0s\u001b[0m 555us/step - attrition_output_accuracy: 0.8382 - department_output_accuracy: 0.6564 - loss: 1.1087 - val_attrition_output_accuracy: 0.7966 - val_department_output_accuracy: 0.6314 - val_loss: 1.3532\n",
            "Epoch 86/90\n",
            "\u001b[1m94/94\u001b[0m \u001b[32m━━━━━━━━━━━━━━━━━━━━\u001b[0m\u001b[37m\u001b[0m \u001b[1m0s\u001b[0m 549us/step - attrition_output_accuracy: 0.8562 - department_output_accuracy: 0.6675 - loss: 1.0959 - val_attrition_output_accuracy: 0.7924 - val_department_output_accuracy: 0.6229 - val_loss: 1.3428\n",
            "Epoch 87/90\n",
            "\u001b[1m94/94\u001b[0m \u001b[32m━━━━━━━━━━━━━━━━━━━━\u001b[0m\u001b[37m\u001b[0m \u001b[1m0s\u001b[0m 549us/step - attrition_output_accuracy: 0.8531 - department_output_accuracy: 0.6726 - loss: 1.0889 - val_attrition_output_accuracy: 0.7924 - val_department_output_accuracy: 0.6314 - val_loss: 1.3351\n",
            "Epoch 88/90\n",
            "\u001b[1m94/94\u001b[0m \u001b[32m━━━━━━━━━━━━━━━━━━━━\u001b[0m\u001b[37m\u001b[0m \u001b[1m0s\u001b[0m 554us/step - attrition_output_accuracy: 0.8572 - department_output_accuracy: 0.6519 - loss: 1.0783 - val_attrition_output_accuracy: 0.7966 - val_department_output_accuracy: 0.6271 - val_loss: 1.3049\n",
            "Epoch 89/90\n",
            "\u001b[1m94/94\u001b[0m \u001b[32m━━━━━━━━━━━━━━━━━━━━\u001b[0m\u001b[37m\u001b[0m \u001b[1m0s\u001b[0m 585us/step - attrition_output_accuracy: 0.8438 - department_output_accuracy: 0.6910 - loss: 1.0917 - val_attrition_output_accuracy: 0.7966 - val_department_output_accuracy: 0.6398 - val_loss: 1.3452\n",
            "Epoch 90/90\n",
            "\u001b[1m94/94\u001b[0m \u001b[32m━━━━━━━━━━━━━━━━━━━━\u001b[0m\u001b[37m\u001b[0m \u001b[1m0s\u001b[0m 553us/step - attrition_output_accuracy: 0.8345 - department_output_accuracy: 0.6720 - loss: 1.1129 - val_attrition_output_accuracy: 0.7966 - val_department_output_accuracy: 0.6271 - val_loss: 1.3455\n"
          ]
        },
        {
          "data": {
            "text/plain": [
              "<keras.src.callbacks.history.History at 0x30b691a50>"
            ]
          },
          "execution_count": 28,
          "metadata": {},
          "output_type": "execute_result"
        }
      ],
      "source": [
        "# Train the model\n",
        "\n",
        "# model.fit(X_train,\n",
        "#           {'department_output': y_department_train,\n",
        "#             'attrition_output': y_attrition_train,\n",
        "#            },\n",
        "#           epochs=10,\n",
        "#           batch_size=32,\n",
        "#           validation_split=0.2\n",
        "# )\n",
        "\n",
        "\n",
        "model.fit(X_train,\n",
        "          {'department_output': y_dept_train_encoded,\n",
        "            'attrition_output': y_attr_train_encoded,\n",
        "           },\n",
        "          epochs=90,\n",
        "          batch_size=10,\n",
        "          validation_split=0.2\n",
        ")"
      ]
    },
    {
      "cell_type": "code",
      "execution_count": 29,
      "metadata": {
        "colab": {
          "base_uri": "https://localhost:8080/"
        },
        "id": "VsMoaQlgGc3U",
        "outputId": "1bd4e601-e964-4abc-ad83-aeecf6b696be"
      },
      "outputs": [
        {
          "name": "stdout",
          "output_type": "stream",
          "text": [
            "\u001b[1m10/10\u001b[0m \u001b[32m━━━━━━━━━━━━━━━━━━━━\u001b[0m\u001b[37m\u001b[0m \u001b[1m0s\u001b[0m 472us/step - attrition_output_accuracy: 0.8447 - department_output_accuracy: 0.6293 - loss: 1.1988\n"
          ]
        }
      ],
      "source": [
        "# Evaluate the model with the testing data\n",
        "results = model.evaluate((X_test),{\n",
        "    'department_output': y_dept_test_encoded,\n",
        "    'attrition_output': y_attr_test_encoded\n",
        "    })\n",
        " \n"
      ]
    },
    {
      "cell_type": "code",
      "execution_count": 30,
      "metadata": {
        "colab": {
          "base_uri": "https://localhost:8080/"
        },
        "id": "ZlCtlHi0Vt54",
        "outputId": "bc21ef3e-80c2-4b38-9c29-79515bc23dec"
      },
      "outputs": [
        {
          "name": "stdout",
          "output_type": "stream",
          "text": [
            "department accuracy: 0.8673469424247742\n",
            "attrition accuracy: 0.6530612111091614\n"
          ]
        }
      ],
      "source": [
        "# Print the accuracy for both department and attrition\n",
        "pred_categories = ['department','attrition']\n",
        "for i, cat in enumerate(pred_categories):\n",
        "    print(f\"{cat} accuracy: {results[i+1]}\")"
      ]
    },
    {
      "cell_type": "markdown",
      "metadata": {
        "id": "eGSyfsZfWOQM"
      },
      "source": [
        "# Summary\n",
        "\n",
        "In the provided space below, briefly answer the following questions.\n",
        "\n",
        "1. Is accuracy the best metric to use on this data? Why or why not?\n",
        "\n",
        "2. What activation functions did you choose for your output layers, and why?\n",
        "\n",
        "3. Can you name a few ways that this model might be improved?"
      ]
    },
    {
      "cell_type": "markdown",
      "metadata": {
        "id": "pi9SLpFnWvbF"
      },
      "source": [
        "YOUR ANSWERS HERE\n",
        "\n",
        "1. \n",
        "2. I used softmax activation for predicting the department (department_output) because it had three classes and sigmoid activation for predicting attrition (attrition_output) for binary classification.\n",
        "\n",
        "3. There are a number of ways to possibly imoprove performance: \n",
        "a. balance each of the targets, both the attrition and department targets are unbalanced \n",
        "b. data cleaning and remove outliers\n",
        "c. feature engieneering, selecting the most relavant features to include.\n",
        "d. adjust the network architecture, depth, width and different activation fucntions\n"
      ]
    },
    {
      "cell_type": "markdown",
      "metadata": {},
      "source": []
    }
  ],
  "metadata": {
    "colab": {
      "provenance": []
    },
    "kernelspec": {
      "display_name": "Python 3",
      "language": "python",
      "name": "python3"
    },
    "language_info": {
      "codemirror_mode": {
        "name": "ipython",
        "version": 3
      },
      "file_extension": ".py",
      "mimetype": "text/x-python",
      "name": "python",
      "nbconvert_exporter": "python",
      "pygments_lexer": "ipython3",
      "version": "3.11.5"
    },
    "vscode": {
      "interpreter": {
        "hash": "31f2aee4e71d21fbe5cf8b01ff0e069b9275f58929596ceb00d14d90e3e16cd6"
      }
    }
  },
  "nbformat": 4,
  "nbformat_minor": 0
}
